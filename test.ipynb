{
 "cells": [
  {
   "cell_type": "code",
   "execution_count": 14,
   "metadata": {},
   "outputs": [],
   "source": [
    "from urllib3 import response\n",
    "from bs4 import BeautifulSoup       ##网页解析，获取数据指定\n",
    "import re      ## 正则表达式，进行文字匹配\n",
    "import urllib3.request, urllib.error  ## 指定url，获取网页数据\n",
    "import xlwt #进行excel操作\n",
    "\n",
    "file = open(\"./baidu.html\",\"rb\")\n",
    "html = file.read().decode(\"utf-8\")\n",
    "bs = BeautifulSoup(html, \"html.parser\")"
   ]
  },
  {
   "cell_type": "code",
   "execution_count": 12,
   "metadata": {},
   "outputs": [
    {
     "name": "stdout",
     "output_type": "stream",
     "text": [
      "[SSL: CERTIFICATE_VERIFY_FAILED] certificate verify failed: unable to get local issuer certificate (_ssl.c:997)\n",
      "\n"
     ]
    }
   ],
   "source": [
    "\n",
    "url = \"https://movie.douban.com/top250?start=\"\n",
    "head = {\n",
    "        \"User-Agent\": \"Mozilla/5.0 (Macintosh; Intel Mac OS X 10_15_7) AppleWebKit/537.36 (KHTML, like Gecko) Chrome/99.0.4844.51 Safari/537.36\"\n",
    "    } #用户代理表示告诉豆瓣服务器，我们是什么类型的机器，(告诉浏览器我们可以接受什么水平的文件)\n",
    "request = urllib.request.Request(url,headers=head)\n",
    "html=\"\"\n",
    "try:\n",
    "    response = urllib.request.urlopen(request)\n",
    "    html = response.read().decode(\"utf-8\")\n",
    "    print(html)\n",
    "except urllib.error.URLError as e:      #报错输出\n",
    "    if hasattr(e,\"code\"):\n",
    "        print(e,code)\n",
    "    if hasattr(e, \"reason\"):\n",
    "        print(e.reason)\n",
    "print(html)"
   ]
  },
  {
   "cell_type": "code",
   "execution_count": null,
   "metadata": {},
   "outputs": [],
   "source": [
    "\n"
   ]
  },
  {
   "cell_type": "code",
   "execution_count": null,
   "metadata": {},
   "outputs": [],
   "source": []
  }
 ],
 "metadata": {
  "interpreter": {
   "hash": "b0a1cd9a493f9b242ec41bbafe4e8a72e823a60d56a7fbd4c5e566c1ac69b1f3"
  },
  "kernelspec": {
   "display_name": "Python 3.10.2 64-bit (windows store)",
   "language": "python",
   "name": "python3"
  },
  "language_info": {
   "codemirror_mode": {
    "name": "ipython",
    "version": 3
   },
   "file_extension": ".py",
   "mimetype": "text/x-python",
   "name": "python",
   "nbconvert_exporter": "python",
   "pygments_lexer": "ipython3",
   "version": "3.10.2"
  },
  "orig_nbformat": 4
 },
 "nbformat": 4,
 "nbformat_minor": 2
}
